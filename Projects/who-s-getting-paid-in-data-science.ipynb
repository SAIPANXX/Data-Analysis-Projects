{
 "cells": [
  {
   "cell_type": "markdown",
   "id": "fe6d469b",
   "metadata": {
    "papermill": {
     "duration": 0.010925,
     "end_time": "2025-06-25T02:25:17.259747",
     "exception": false,
     "start_time": "2025-06-25T02:25:17.248822",
     "status": "completed"
    },
    "tags": []
   },
   "source": [
    "# Welcome on board everyone 💅"
   ]
  },
  {
   "cell_type": "markdown",
   "id": "2fdcccbf",
   "metadata": {
    "papermill": {
     "duration": 0.008737,
     "end_time": "2025-06-25T02:25:17.277939",
     "exception": false,
     "start_time": "2025-06-25T02:25:17.269202",
     "status": "completed"
    },
    "tags": []
   },
   "source": [
    "Hello, hello, hello!\n",
    "\n",
    "This notebook presents a data analysis project focused on salaries for data science jobs in 2025. It guides you through essential steps, including data preprocessing, data cleaning, insightful data analysis, and compelling data visualization.\n",
    "\n",
    "A key point to note is that the data used for most of the analysis is specifically filtered for the year 2025. This means it represents a partial-year dataset. Additionally, I've prioritized creating reusable functions throughout, allowing you to easily adapt and apply them for your own interests.\n",
    "\n",
    "I hope you have fun exploring my project and find it insightful!\n",
    "\n",
    "I appreciate your engagement! :)"
   ]
  },
  {
   "cell_type": "markdown",
   "id": "4edfd56a",
   "metadata": {
    "papermill": {
     "duration": 0.008755,
     "end_time": "2025-06-25T02:25:17.295780",
     "exception": false,
     "start_time": "2025-06-25T02:25:17.287025",
     "status": "completed"
    },
    "tags": []
   },
   "source": [
    "# Import libralies"
   ]
  },
  {
   "cell_type": "code",
   "execution_count": 1,
   "id": "7894c243",
   "metadata": {
    "_cell_guid": "b1076dfc-b9ad-4769-8c92-a6c4dae69d19",
    "_uuid": "8f2839f25d086af736a60e9eeb907d3b93b6e0e5",
    "execution": {
     "iopub.execute_input": "2025-06-25T02:25:17.315401Z",
     "iopub.status.busy": "2025-06-25T02:25:17.314858Z",
     "iopub.status.idle": "2025-06-25T02:25:21.023409Z",
     "shell.execute_reply": "2025-06-25T02:25:21.022398Z"
    },
    "papermill": {
     "duration": 3.720596,
     "end_time": "2025-06-25T02:25:21.025324",
     "exception": false,
     "start_time": "2025-06-25T02:25:17.304728",
     "status": "completed"
    },
    "tags": []
   },
   "outputs": [
    {
     "name": "stdout",
     "output_type": "stream",
     "text": [
      "/kaggle/input/salaries-for-data-science-jobs/DataScience_Salaries.csv\n",
      "/kaggle/input/salaries-for-data-science-jobs/salaries.csv\n"
     ]
    }
   ],
   "source": [
    "import numpy as np\n",
    "import pandas as pd # data processing, CSV file I/O (e.g. pd.read_csv)\n",
    "import matplotlib.pyplot as plt\n",
    "import seaborn as sns\n",
    "import os\n",
    "for dirname, _, filenames in os.walk('/kaggle/input'):\n",
    "    for filename in filenames:\n",
    "        print(os.path.join(dirname, filename))"
   ]
  },
  {
   "cell_type": "markdown",
   "id": "8a120e16",
   "metadata": {
    "papermill": {
     "duration": 0.009386,
     "end_time": "2025-06-25T02:25:21.044974",
     "exception": false,
     "start_time": "2025-06-25T02:25:21.035588",
     "status": "completed"
    },
    "tags": []
   },
   "source": [
    "# Read the data file"
   ]
  },
  {
   "cell_type": "code",
   "execution_count": 2,
   "id": "2f9293de",
   "metadata": {
    "execution": {
     "iopub.execute_input": "2025-06-25T02:25:21.065077Z",
     "iopub.status.busy": "2025-06-25T02:25:21.064225Z",
     "iopub.status.idle": "2025-06-25T02:25:21.403476Z",
     "shell.execute_reply": "2025-06-25T02:25:21.402544Z"
    },
    "papermill": {
     "duration": 0.350794,
     "end_time": "2025-06-25T02:25:21.404960",
     "exception": false,
     "start_time": "2025-06-25T02:25:21.054166",
     "status": "completed"
    },
    "tags": []
   },
   "outputs": [
    {
     "data": {
      "text/html": [
       "<div>\n",
       "<style scoped>\n",
       "    .dataframe tbody tr th:only-of-type {\n",
       "        vertical-align: middle;\n",
       "    }\n",
       "\n",
       "    .dataframe tbody tr th {\n",
       "        vertical-align: top;\n",
       "    }\n",
       "\n",
       "    .dataframe thead th {\n",
       "        text-align: right;\n",
       "    }\n",
       "</style>\n",
       "<table border=\"1\" class=\"dataframe\">\n",
       "  <thead>\n",
       "    <tr style=\"text-align: right;\">\n",
       "      <th></th>\n",
       "      <th>work_year</th>\n",
       "      <th>experience_level</th>\n",
       "      <th>employment_type</th>\n",
       "      <th>job_title</th>\n",
       "      <th>salary</th>\n",
       "      <th>salary_currency</th>\n",
       "      <th>salary_in_usd</th>\n",
       "      <th>employee_residence</th>\n",
       "      <th>remote_ratio</th>\n",
       "      <th>company_location</th>\n",
       "      <th>company_size</th>\n",
       "    </tr>\n",
       "  </thead>\n",
       "  <tbody>\n",
       "    <tr>\n",
       "      <th>77346</th>\n",
       "      <td>2024</td>\n",
       "      <td>MI</td>\n",
       "      <td>FT</td>\n",
       "      <td>Machine Learning Engineer</td>\n",
       "      <td>214500</td>\n",
       "      <td>USD</td>\n",
       "      <td>214500</td>\n",
       "      <td>US</td>\n",
       "      <td>0</td>\n",
       "      <td>US</td>\n",
       "      <td>M</td>\n",
       "    </tr>\n",
       "    <tr>\n",
       "      <th>39474</th>\n",
       "      <td>2025</td>\n",
       "      <td>SE</td>\n",
       "      <td>FT</td>\n",
       "      <td>Machine Learning Engineer</td>\n",
       "      <td>181000</td>\n",
       "      <td>USD</td>\n",
       "      <td>181000</td>\n",
       "      <td>US</td>\n",
       "      <td>0</td>\n",
       "      <td>US</td>\n",
       "      <td>M</td>\n",
       "    </tr>\n",
       "    <tr>\n",
       "      <th>6336</th>\n",
       "      <td>2025</td>\n",
       "      <td>SE</td>\n",
       "      <td>FT</td>\n",
       "      <td>Consultant</td>\n",
       "      <td>139450</td>\n",
       "      <td>USD</td>\n",
       "      <td>139450</td>\n",
       "      <td>US</td>\n",
       "      <td>0</td>\n",
       "      <td>US</td>\n",
       "      <td>M</td>\n",
       "    </tr>\n",
       "    <tr>\n",
       "      <th>39948</th>\n",
       "      <td>2025</td>\n",
       "      <td>MI</td>\n",
       "      <td>FT</td>\n",
       "      <td>Data Scientist</td>\n",
       "      <td>176000</td>\n",
       "      <td>USD</td>\n",
       "      <td>176000</td>\n",
       "      <td>US</td>\n",
       "      <td>0</td>\n",
       "      <td>US</td>\n",
       "      <td>M</td>\n",
       "    </tr>\n",
       "    <tr>\n",
       "      <th>88520</th>\n",
       "      <td>2024</td>\n",
       "      <td>SE</td>\n",
       "      <td>FT</td>\n",
       "      <td>Engineer</td>\n",
       "      <td>160000</td>\n",
       "      <td>USD</td>\n",
       "      <td>160000</td>\n",
       "      <td>US</td>\n",
       "      <td>0</td>\n",
       "      <td>US</td>\n",
       "      <td>M</td>\n",
       "    </tr>\n",
       "  </tbody>\n",
       "</table>\n",
       "</div>"
      ],
      "text/plain": [
       "       work_year experience_level employment_type                  job_title  \\\n",
       "77346       2024               MI              FT  Machine Learning Engineer   \n",
       "39474       2025               SE              FT  Machine Learning Engineer   \n",
       "6336        2025               SE              FT                 Consultant   \n",
       "39948       2025               MI              FT             Data Scientist   \n",
       "88520       2024               SE              FT                   Engineer   \n",
       "\n",
       "       salary salary_currency  salary_in_usd employee_residence  remote_ratio  \\\n",
       "77346  214500             USD         214500                 US             0   \n",
       "39474  181000             USD         181000                 US             0   \n",
       "6336   139450             USD         139450                 US             0   \n",
       "39948  176000             USD         176000                 US             0   \n",
       "88520  160000             USD         160000                 US             0   \n",
       "\n",
       "      company_location company_size  \n",
       "77346               US            M  \n",
       "39474               US            M  \n",
       "6336                US            M  \n",
       "39948               US            M  \n",
       "88520               US            M  "
      ]
     },
     "execution_count": 2,
     "metadata": {},
     "output_type": "execute_result"
    }
   ],
   "source": [
    "def show_df(filepath):\n",
    "    \"\"\"reads a csv file and displays Dataframe\"\"\"\n",
    "    df = pd.read_csv(filepath)\n",
    "    return df\n",
    "\n",
    "filepath = \"/kaggle/input/salaries-for-data-science-jobs/salaries.csv\"\n",
    "df = show_df(filepath)\n",
    "df.sample(5)"
   ]
  },
  {
   "cell_type": "markdown",
   "id": "6c991c42",
   "metadata": {
    "papermill": {
     "duration": 0.009117,
     "end_time": "2025-06-25T02:25:21.423667",
     "exception": false,
     "start_time": "2025-06-25T02:25:21.414550",
     "status": "completed"
    },
    "tags": []
   },
   "source": [
    "# Get overview of the dataset"
   ]
  },
  {
   "cell_type": "code",
   "execution_count": 3,
   "id": "c84c0188",
   "metadata": {
    "execution": {
     "iopub.execute_input": "2025-06-25T02:25:21.444248Z",
     "iopub.status.busy": "2025-06-25T02:25:21.443334Z",
     "iopub.status.idle": "2025-06-25T02:25:21.522071Z",
     "shell.execute_reply": "2025-06-25T02:25:21.520875Z"
    },
    "papermill": {
     "duration": 0.090513,
     "end_time": "2025-06-25T02:25:21.523623",
     "exception": false,
     "start_time": "2025-06-25T02:25:21.433110",
     "status": "completed"
    },
    "tags": []
   },
   "outputs": [
    {
     "name": "stdout",
     "output_type": "stream",
     "text": [
      "<class 'pandas.core.frame.DataFrame'>\n",
      "RangeIndex: 133349 entries, 0 to 133348\n",
      "Data columns (total 11 columns):\n",
      " #   Column              Non-Null Count   Dtype \n",
      "---  ------              --------------   ----- \n",
      " 0   work_year           133349 non-null  int64 \n",
      " 1   experience_level    133349 non-null  object\n",
      " 2   employment_type     133349 non-null  object\n",
      " 3   job_title           133349 non-null  object\n",
      " 4   salary              133349 non-null  int64 \n",
      " 5   salary_currency     133349 non-null  object\n",
      " 6   salary_in_usd       133349 non-null  int64 \n",
      " 7   employee_residence  133349 non-null  object\n",
      " 8   remote_ratio        133349 non-null  int64 \n",
      " 9   company_location    133349 non-null  object\n",
      " 10  company_size        133349 non-null  object\n",
      "dtypes: int64(4), object(7)\n",
      "memory usage: 11.2+ MB\n"
     ]
    }
   ],
   "source": [
    "df.info()"
   ]
  },
  {
   "cell_type": "code",
   "execution_count": 4,
   "id": "6e18f741",
   "metadata": {
    "execution": {
     "iopub.execute_input": "2025-06-25T02:25:21.544229Z",
     "iopub.status.busy": "2025-06-25T02:25:21.543897Z",
     "iopub.status.idle": "2025-06-25T02:25:21.549846Z",
     "shell.execute_reply": "2025-06-25T02:25:21.548840Z"
    },
    "papermill": {
     "duration": 0.017976,
     "end_time": "2025-06-25T02:25:21.551348",
     "exception": false,
     "start_time": "2025-06-25T02:25:21.533372",
     "status": "completed"
    },
    "tags": []
   },
   "outputs": [
    {
     "data": {
      "text/plain": [
       "(133349, 11)"
      ]
     },
     "execution_count": 4,
     "metadata": {},
     "output_type": "execute_result"
    }
   ],
   "source": [
    "df.shape"
   ]
  },
  {
   "cell_type": "code",
   "execution_count": 5,
   "id": "84a1efd5",
   "metadata": {
    "execution": {
     "iopub.execute_input": "2025-06-25T02:25:21.571848Z",
     "iopub.status.busy": "2025-06-25T02:25:21.571068Z",
     "iopub.status.idle": "2025-06-25T02:25:21.577033Z",
     "shell.execute_reply": "2025-06-25T02:25:21.576317Z"
    },
    "papermill": {
     "duration": 0.017775,
     "end_time": "2025-06-25T02:25:21.578512",
     "exception": false,
     "start_time": "2025-06-25T02:25:21.560737",
     "status": "completed"
    },
    "tags": []
   },
   "outputs": [
    {
     "data": {
      "text/plain": [
       "Index(['work_year', 'experience_level', 'employment_type', 'job_title',\n",
       "       'salary', 'salary_currency', 'salary_in_usd', 'employee_residence',\n",
       "       'remote_ratio', 'company_location', 'company_size'],\n",
       "      dtype='object')"
      ]
     },
     "execution_count": 5,
     "metadata": {},
     "output_type": "execute_result"
    }
   ],
   "source": [
    "df.columns"
   ]
  },
  {
   "cell_type": "code",
   "execution_count": 6,
   "id": "ddc45ee3",
   "metadata": {
    "execution": {
     "iopub.execute_input": "2025-06-25T02:25:21.600136Z",
     "iopub.status.busy": "2025-06-25T02:25:21.599262Z",
     "iopub.status.idle": "2025-06-25T02:25:21.686136Z",
     "shell.execute_reply": "2025-06-25T02:25:21.685228Z"
    },
    "papermill": {
     "duration": 0.099209,
     "end_time": "2025-06-25T02:25:21.687774",
     "exception": false,
     "start_time": "2025-06-25T02:25:21.588565",
     "status": "completed"
    },
    "tags": []
   },
   "outputs": [
    {
     "data": {
      "text/plain": [
       "68726"
      ]
     },
     "execution_count": 6,
     "metadata": {},
     "output_type": "execute_result"
    }
   ],
   "source": [
    "df.duplicated().sum()"
   ]
  },
  {
   "cell_type": "markdown",
   "id": "032c2d07",
   "metadata": {
    "papermill": {
     "duration": 0.00979,
     "end_time": "2025-06-25T02:25:21.707371",
     "exception": false,
     "start_time": "2025-06-25T02:25:21.697581",
     "status": "completed"
    },
    "tags": []
   },
   "source": [
    "## Get unique values in a column"
   ]
  },
  {
   "cell_type": "code",
   "execution_count": 7,
   "id": "d202f533",
   "metadata": {
    "execution": {
     "iopub.execute_input": "2025-06-25T02:25:21.729617Z",
     "iopub.status.busy": "2025-06-25T02:25:21.728796Z",
     "iopub.status.idle": "2025-06-25T02:25:21.734301Z",
     "shell.execute_reply": "2025-06-25T02:25:21.733404Z"
    },
    "papermill": {
     "duration": 0.018342,
     "end_time": "2025-06-25T02:25:21.735869",
     "exception": false,
     "start_time": "2025-06-25T02:25:21.717527",
     "status": "completed"
    },
    "tags": []
   },
   "outputs": [],
   "source": [
    "def unique_values(dataframe, column_name):\n",
    "    \"\"\"\n",
    "    Returns the unique values in a given column, with formatting for string values.\n",
    "    \n",
    "    Parameters:\n",
    "    - dataframe: pandas DataFrame\n",
    "    - column_name: string name of the column to analyze\n",
    "    \n",
    "    Returns:\n",
    "    - List of unique values\n",
    "    \"\"\"\n",
    "    if dataframe[column_name].dtype == 'string':\n",
    "        cleaned_col = dataframe[column_name].str.strip().str.upper()\n",
    "    else:\n",
    "        cleaned_col = dataframe[column_name]\n",
    "\n",
    "    unique_vals = cleaned_col.unique()\n",
    "\n",
    "    print(f\"Unique values in '{column_name}':\")\n",
    "    print(unique_vals)\n",
    "    print(f\"Total: {len(unique_vals)} unique values\\n\")\n",
    "\n",
    "    return unique_vals"
   ]
  },
  {
   "cell_type": "code",
   "execution_count": 8,
   "id": "fd492399",
   "metadata": {
    "execution": {
     "iopub.execute_input": "2025-06-25T02:25:21.756886Z",
     "iopub.status.busy": "2025-06-25T02:25:21.756145Z",
     "iopub.status.idle": "2025-06-25T02:25:21.790960Z",
     "shell.execute_reply": "2025-06-25T02:25:21.789362Z"
    },
    "papermill": {
     "duration": 0.047202,
     "end_time": "2025-06-25T02:25:21.792813",
     "exception": false,
     "start_time": "2025-06-25T02:25:21.745611",
     "status": "completed"
    },
    "tags": []
   },
   "outputs": [
    {
     "name": "stdout",
     "output_type": "stream",
     "text": [
      "Unique values in 'work_year':\n",
      "[2025 2024 2022 2023 2020 2021]\n",
      "Total: 6 unique values\n",
      "\n",
      "Unique values in 'experience_level':\n",
      "['SE' 'MI' 'EN' 'EX']\n",
      "Total: 4 unique values\n",
      "\n",
      "Unique values in 'salary_currency':\n",
      "['USD' 'GBP' 'MXN' 'EUR' 'PHP' 'CAD' 'PLN' 'JPY' 'INR' 'SGD' 'HUF' 'AUD'\n",
      " 'CHF' 'TWD' 'NOK' 'BRL' 'CZK' 'ZAR' 'DKK' 'ILS' 'TRY' 'SEK' 'NZD' 'HKD'\n",
      " 'THB' 'CLP']\n",
      "Total: 26 unique values\n",
      "\n",
      "Unique values in 'company_location':\n",
      "['US' 'AU' 'CA' 'JP' 'GB' 'MX' 'NL' 'ES' 'FR' 'MT' 'LT' 'PH' 'NZ' 'DE'\n",
      " 'LV' 'IE' 'MK' 'AT' 'PL' 'SK' 'BR' 'SI' 'FI' 'HK' 'LS' 'IN' 'JM' 'CH'\n",
      " 'BE' 'PE' 'SG' 'PT' 'IT' 'HU' 'RO' 'AR' 'ZA' 'PA' 'EE' 'LU' 'DZ' 'EG'\n",
      " 'CL' 'GR' 'KE' 'CD' 'SE' 'KR' 'TW' 'NO' 'CZ' 'TR' 'CY' 'CO' 'DK' 'AE'\n",
      " 'BG' 'ID' 'JO' 'RS' 'UA' 'PR' 'SV' 'EC' 'DO' 'MY' 'XK' 'CR' 'ZM' 'AM'\n",
      " 'IL' 'LB' 'NG' 'HR' 'PK' 'HN' 'VE' 'AS' 'SA' 'OM' 'BA' 'VN' 'GI' 'MU'\n",
      " 'RU' 'QA' 'GH' 'AD' 'CF' 'TH' 'IR' 'BS' 'IQ' 'CN' 'MD']\n",
      "Total: 95 unique values\n",
      "\n",
      "Unique values in 'company_size':\n",
      "['M' 'L' 'S']\n",
      "Total: 3 unique values\n",
      "\n"
     ]
    },
    {
     "data": {
      "text/plain": [
       "array(['M', 'L', 'S'], dtype=object)"
      ]
     },
     "execution_count": 8,
     "metadata": {},
     "output_type": "execute_result"
    }
   ],
   "source": [
    "unique_values(df, 'work_year')\n",
    "unique_values(df, 'experience_level')\n",
    "unique_values(df, 'salary_currency')\n",
    "unique_values(df, 'company_location')\n",
    "unique_values(df, 'company_size')"
   ]
  },
  {
   "cell_type": "code",
   "execution_count": 9,
   "id": "58de9a13",
   "metadata": {
    "execution": {
     "iopub.execute_input": "2025-06-25T02:25:21.813871Z",
     "iopub.status.busy": "2025-06-25T02:25:21.813539Z",
     "iopub.status.idle": "2025-06-25T02:25:21.829678Z",
     "shell.execute_reply": "2025-06-25T02:25:21.828773Z"
    },
    "papermill": {
     "duration": 0.028344,
     "end_time": "2025-06-25T02:25:21.831138",
     "exception": false,
     "start_time": "2025-06-25T02:25:21.802794",
     "status": "completed"
    },
    "tags": []
   },
   "outputs": [
    {
     "data": {
      "text/plain": [
       "company_location\n",
       "US    119641\n",
       "CA      5239\n",
       "GB      3719\n",
       "AU       522\n",
       "NL       404\n",
       "DE       395\n",
       "FR       364\n",
       "LT       338\n",
       "AT       297\n",
       "ES       260\n",
       "Name: count, dtype: int64"
      ]
     },
     "execution_count": 9,
     "metadata": {},
     "output_type": "execute_result"
    }
   ],
   "source": [
    "df[\"company_location\"].value_counts().head(10)"
   ]
  },
  {
   "cell_type": "markdown",
   "id": "ed22af6a",
   "metadata": {
    "papermill": {
     "duration": 0.009658,
     "end_time": "2025-06-25T02:25:21.850868",
     "exception": false,
     "start_time": "2025-06-25T02:25:21.841210",
     "status": "completed"
    },
    "tags": []
   },
   "source": [
    "# Data Preprocessing"
   ]
  },
  {
   "cell_type": "code",
   "execution_count": 10,
   "id": "281dcd8b",
   "metadata": {
    "execution": {
     "iopub.execute_input": "2025-06-25T02:25:21.938082Z",
     "iopub.status.busy": "2025-06-25T02:25:21.937410Z",
     "iopub.status.idle": "2025-06-25T02:25:22.410085Z",
     "shell.execute_reply": "2025-06-25T02:25:22.409212Z"
    },
    "papermill": {
     "duration": 0.551218,
     "end_time": "2025-06-25T02:25:22.411806",
     "exception": false,
     "start_time": "2025-06-25T02:25:21.860588",
     "status": "completed"
    },
    "tags": []
   },
   "outputs": [
    {
     "data": {
      "text/html": [
       "<div>\n",
       "<style scoped>\n",
       "    .dataframe tbody tr th:only-of-type {\n",
       "        vertical-align: middle;\n",
       "    }\n",
       "\n",
       "    .dataframe tbody tr th {\n",
       "        vertical-align: top;\n",
       "    }\n",
       "\n",
       "    .dataframe thead th {\n",
       "        text-align: right;\n",
       "    }\n",
       "</style>\n",
       "<table border=\"1\" class=\"dataframe\">\n",
       "  <thead>\n",
       "    <tr style=\"text-align: right;\">\n",
       "      <th></th>\n",
       "      <th>work_year</th>\n",
       "      <th>experience_level</th>\n",
       "      <th>employment_type</th>\n",
       "      <th>job_title</th>\n",
       "      <th>salary_currency</th>\n",
       "      <th>salary_in_usd</th>\n",
       "      <th>employee_residence</th>\n",
       "      <th>remote_ratio</th>\n",
       "      <th>company_location</th>\n",
       "      <th>company_size</th>\n",
       "    </tr>\n",
       "  </thead>\n",
       "  <tbody>\n",
       "    <tr>\n",
       "      <th>87515</th>\n",
       "      <td>2024</td>\n",
       "      <td>MI</td>\n",
       "      <td>FT</td>\n",
       "      <td>Data Engineer</td>\n",
       "      <td>USD</td>\n",
       "      <td>137000</td>\n",
       "      <td>DE</td>\n",
       "      <td>0</td>\n",
       "      <td>DE</td>\n",
       "      <td>M</td>\n",
       "    </tr>\n",
       "    <tr>\n",
       "      <th>22811</th>\n",
       "      <td>2025</td>\n",
       "      <td>SE</td>\n",
       "      <td>FT</td>\n",
       "      <td>Engineer</td>\n",
       "      <td>USD</td>\n",
       "      <td>320000</td>\n",
       "      <td>US</td>\n",
       "      <td>0</td>\n",
       "      <td>US</td>\n",
       "      <td>M</td>\n",
       "    </tr>\n",
       "    <tr>\n",
       "      <th>21234</th>\n",
       "      <td>2025</td>\n",
       "      <td>MI</td>\n",
       "      <td>FT</td>\n",
       "      <td>Platform Engineer</td>\n",
       "      <td>USD</td>\n",
       "      <td>132825</td>\n",
       "      <td>US</td>\n",
       "      <td>0</td>\n",
       "      <td>US</td>\n",
       "      <td>M</td>\n",
       "    </tr>\n",
       "  </tbody>\n",
       "</table>\n",
       "</div>"
      ],
      "text/plain": [
       "       work_year experience_level employment_type          job_title  \\\n",
       "87515       2024               MI              FT      Data Engineer   \n",
       "22811       2025               SE              FT           Engineer   \n",
       "21234       2025               MI              FT  Platform Engineer   \n",
       "\n",
       "      salary_currency  salary_in_usd employee_residence  remote_ratio  \\\n",
       "87515             USD         137000                 DE             0   \n",
       "22811             USD         320000                 US             0   \n",
       "21234             USD         132825                 US             0   \n",
       "\n",
       "      company_location company_size  \n",
       "87515               DE            M  \n",
       "22811               US            M  \n",
       "21234               US            M  "
      ]
     },
     "execution_count": 10,
     "metadata": {},
     "output_type": "execute_result"
    }
   ],
   "source": [
    "def preprocess(filename = filepath):\n",
    "    \"\"\"prepares and transforms dataframe\"\"\"\n",
    "\n",
    "    # change data types\n",
    "    dtype_mapper = {\"experience_level\" : \"string\",\n",
    "                    \"employment_type\" : \"string\",\n",
    "                    \"job_title\" : \"string\",\n",
    "                    \"salary_currency\" : \"string\",\n",
    "                    \"employee_residence\" : \"string\",\n",
    "                    \"company_location\" : \"string\",\n",
    "                    \"company_size\" : \"string\"}\n",
    "    \n",
    "    # read the data file\n",
    "    df = (pd.read_csv(filename, dtype=dtype_mapper)\n",
    "        .drop(\"salary\", axis = 1))\n",
    "\n",
    "    # Standardizes currency values\n",
    "    df[\"salary_currency\"] = df[\"salary_currency\"].str.strip().str.upper()\n",
    "\n",
    "    # Keeps only rows where currency is USD\n",
    "    df = df[df[\"salary_currency\"] == \"USD\"]\n",
    "\n",
    "    # removes duplicated rows\n",
    "    df = df.drop_duplicates()\n",
    "\n",
    "    return df\n",
    "    \n",
    "filepath = \"/kaggle/input/salaries-for-data-science-jobs/salaries.csv\"\n",
    "sa = preprocess()\n",
    "sa.sample(3)"
   ]
  },
  {
   "cell_type": "code",
   "execution_count": 11,
   "id": "6b8e3656",
   "metadata": {
    "execution": {
     "iopub.execute_input": "2025-06-25T02:25:22.435082Z",
     "iopub.status.busy": "2025-06-25T02:25:22.434470Z",
     "iopub.status.idle": "2025-06-25T02:25:22.519342Z",
     "shell.execute_reply": "2025-06-25T02:25:22.518219Z"
    },
    "papermill": {
     "duration": 0.098369,
     "end_time": "2025-06-25T02:25:22.521034",
     "exception": false,
     "start_time": "2025-06-25T02:25:22.422665",
     "status": "completed"
    },
    "tags": []
   },
   "outputs": [
    {
     "name": "stdout",
     "output_type": "stream",
     "text": [
      "<class 'pandas.core.frame.DataFrame'>\n",
      "Index: 59299 entries, 0 to 133347\n",
      "Data columns (total 10 columns):\n",
      " #   Column              Non-Null Count  Dtype \n",
      "---  ------              --------------  ----- \n",
      " 0   work_year           59299 non-null  int64 \n",
      " 1   experience_level    59299 non-null  string\n",
      " 2   employment_type     59299 non-null  string\n",
      " 3   job_title           59299 non-null  string\n",
      " 4   salary_currency     59299 non-null  string\n",
      " 5   salary_in_usd       59299 non-null  int64 \n",
      " 6   employee_residence  59299 non-null  string\n",
      " 7   remote_ratio        59299 non-null  int64 \n",
      " 8   company_location    59299 non-null  string\n",
      " 9   company_size        59299 non-null  string\n",
      "dtypes: int64(3), string(7)\n",
      "memory usage: 5.0 MB\n",
      "There are 0 of duplicated rows\n"
     ]
    }
   ],
   "source": [
    "# recheck data type and duplicated rows\n",
    "sa.info()\n",
    "print(f\"There are {sa.duplicated().sum()} of duplicated rows\")"
   ]
  },
  {
   "cell_type": "code",
   "execution_count": 12,
   "id": "bc0bc6d9",
   "metadata": {
    "execution": {
     "iopub.execute_input": "2025-06-25T02:25:22.545205Z",
     "iopub.status.busy": "2025-06-25T02:25:22.544386Z",
     "iopub.status.idle": "2025-06-25T02:25:22.550608Z",
     "shell.execute_reply": "2025-06-25T02:25:22.549725Z"
    },
    "papermill": {
     "duration": 0.020637,
     "end_time": "2025-06-25T02:25:22.552119",
     "exception": false,
     "start_time": "2025-06-25T02:25:22.531482",
     "status": "completed"
    },
    "tags": []
   },
   "outputs": [
    {
     "data": {
      "text/plain": [
       "(59299, 10)"
      ]
     },
     "execution_count": 12,
     "metadata": {},
     "output_type": "execute_result"
    }
   ],
   "source": [
    "sa.shape"
   ]
  },
  {
   "cell_type": "markdown",
   "id": "f7cca272",
   "metadata": {
    "papermill": {
     "duration": 0.009918,
     "end_time": "2025-06-25T02:25:22.572809",
     "exception": false,
     "start_time": "2025-06-25T02:25:22.562891",
     "status": "completed"
    },
    "tags": []
   },
   "source": [
    "# The Main Reveal 🎬"
   ]
  },
  {
   "cell_type": "markdown",
   "id": "8bbb9086",
   "metadata": {
    "papermill": {
     "duration": 0.010121,
     "end_time": "2025-06-25T02:25:22.593024",
     "exception": false,
     "start_time": "2025-06-25T02:25:22.582903",
     "status": "completed"
    },
    "tags": []
   },
   "source": [
    "## General Descriptive Insights"
   ]
  },
  {
   "cell_type": "markdown",
   "id": "b166e395",
   "metadata": {
    "papermill": {
     "duration": 0.010126,
     "end_time": "2025-06-25T02:25:22.613161",
     "exception": false,
     "start_time": "2025-06-25T02:25:22.603035",
     "status": "completed"
    },
    "tags": []
   },
   "source": [
    "## 1. Top 10 average highest and lowest paid data science jobs in 2025 (globally) 🌏"
   ]
  },
  {
   "cell_type": "code",
   "execution_count": 13,
   "id": "24f5df14",
   "metadata": {
    "execution": {
     "iopub.execute_input": "2025-06-25T02:25:22.636270Z",
     "iopub.status.busy": "2025-06-25T02:25:22.635990Z",
     "iopub.status.idle": "2025-06-25T02:25:22.641410Z",
     "shell.execute_reply": "2025-06-25T02:25:22.640639Z"
    },
    "papermill": {
     "duration": 0.01838,
     "end_time": "2025-06-25T02:25:22.642912",
     "exception": false,
     "start_time": "2025-06-25T02:25:22.624532",
     "status": "completed"
    },
    "tags": []
   },
   "outputs": [],
   "source": [
    "def paid_summary(dataframe, top_n = 10, ascending=False):\n",
    "    \"\"\"\n",
    "    Sorts a salary summary DataFrame by a specified column and prints the top N job titles.\n",
    "    Args:\n",
    "        df_summary (pd.DataFrame): The DataFrame containing aggregated county data\n",
    "                                   (e.g., from a groupby.sum()).\n",
    "        column_name (str): The name of the column to sort by.\n",
    "        top_n (int, optional): The number of top records to display. Defaults to 10.\n",
    "    \"\"\"\n",
    "    # Keeps only work_year == 2025\n",
    "    df_2025 = dataframe[dataframe[\"work_year\"] == 2025]\n",
    "    \n",
    "    salary_summary = df_2025.groupby(\"job_title\")[\"salary_in_usd\"].mean().round(2)\n",
    "    sorted_df = salary_summary.sort_values(ascending = ascending)\n",
    "\n",
    "    # Display result\n",
    "    label = \"lowest\" if ascending else \"highest\"\n",
    "    print(f\"\\nTop {top_n} {label} paid job titles in USD for 2025:\")\n",
    "    print(sorted_df.head(top_n).to_string())"
   ]
  },
  {
   "cell_type": "code",
   "execution_count": 14,
   "id": "9ba1f351",
   "metadata": {
    "execution": {
     "iopub.execute_input": "2025-06-25T02:25:22.665061Z",
     "iopub.status.busy": "2025-06-25T02:25:22.664791Z",
     "iopub.status.idle": "2025-06-25T02:25:22.698897Z",
     "shell.execute_reply": "2025-06-25T02:25:22.697890Z"
    },
    "papermill": {
     "duration": 0.047198,
     "end_time": "2025-06-25T02:25:22.700594",
     "exception": false,
     "start_time": "2025-06-25T02:25:22.653396",
     "status": "completed"
    },
    "tags": []
   },
   "outputs": [
    {
     "name": "stdout",
     "output_type": "stream",
     "text": [
      "\n",
      "Top 10 highest paid job titles in USD for 2025:\n",
      "job_title\n",
      "Research Team Lead                450000.00\n",
      "Head of Applied AI                278500.00\n",
      "Head of AI                        264315.17\n",
      "Director of Machine Learning      261650.00\n",
      "Director of Product Management    261555.25\n",
      "Head of Data                      254481.70\n",
      "Enterprise Account Executive      249416.67\n",
      "Head of Machine Learning          247750.00\n",
      "Engineering Manager               247717.52\n",
      "Machine Learning Architect        246320.00\n",
      "\n",
      "Top 10 lowest paid job titles in USD for 2025:\n",
      "job_title\n",
      "Clinical Aide               35000.00\n",
      "Clinical Data Operator      36000.00\n",
      "AI Content Writer           40506.67\n",
      "Data Operator               42000.00\n",
      "Data Integration Analyst    49000.00\n",
      "Research Assistant          49780.09\n",
      "Trainee                     55000.00\n",
      "Data & Analytics Analyst    55000.00\n",
      "Cientista de Dados          60000.00\n",
      "Research Data Manager       60000.00\n"
     ]
    }
   ],
   "source": [
    "paid_summary(sa, top_n=10, ascending=False)\n",
    "paid_summary(sa, top_n=10, ascending=True)"
   ]
  },
  {
   "cell_type": "markdown",
   "id": "aeafc239",
   "metadata": {
    "papermill": {
     "duration": 0.010528,
     "end_time": "2025-06-25T02:25:22.721669",
     "exception": false,
     "start_time": "2025-06-25T02:25:22.711141",
     "status": "completed"
    },
    "tags": []
   },
   "source": [
    "## 2. Top 10 average highest and lowest paid data science jobs in 2025 (USA) 🇺🇸"
   ]
  },
  {
   "cell_type": "code",
   "execution_count": 15,
   "id": "17d35469",
   "metadata": {
    "execution": {
     "iopub.execute_input": "2025-06-25T02:25:22.744984Z",
     "iopub.status.busy": "2025-06-25T02:25:22.744673Z",
     "iopub.status.idle": "2025-06-25T02:25:22.751197Z",
     "shell.execute_reply": "2025-06-25T02:25:22.750359Z"
    },
    "papermill": {
     "duration": 0.020646,
     "end_time": "2025-06-25T02:25:22.752914",
     "exception": false,
     "start_time": "2025-06-25T02:25:22.732268",
     "status": "completed"
    },
    "tags": []
   },
   "outputs": [],
   "source": [
    "def paid_summary(dataframe, headquater, top_n = 10, ascending=False):\n",
    "    \"\"\"\n",
    "    Sorts a salary summary DataFrame by a specified column and prints the top N job titles.\n",
    "    Args:\n",
    "        df_summary (pd.DataFrame): The DataFrame containing aggregated county data\n",
    "                                   (e.g., from a groupby.sum()).\n",
    "        column_name (str): The name of the column to sort by.\n",
    "        top_n (int, optional): The number of top records to display. Defaults to 10.\n",
    "    \"\"\"\n",
    "    # Keeps only work_year == 2025 & company_location == US\n",
    "    df_2025 = dataframe[\n",
    "                (dataframe[\"work_year\"] == 2025) & \n",
    "                (dataframe[\"company_location\"] == headquater)]    \n",
    "    \n",
    "    salary_summary = df_2025.groupby(\"job_title\")[\"salary_in_usd\"].mean().round(2)\n",
    "    sorted_df = salary_summary.sort_values(ascending = ascending)\n",
    "\n",
    "    # Display result\n",
    "    label = \"lowest\" if ascending else \"highest\"\n",
    "    print(f\"\\nTop {top_n} {label} paid job titles in USD for 2025 (Location: {headquater}):\")\n",
    "    print(sorted_df.head(top_n).to_string())"
   ]
  },
  {
   "cell_type": "code",
   "execution_count": 16,
   "id": "9f92c203",
   "metadata": {
    "execution": {
     "iopub.execute_input": "2025-06-25T02:25:22.775790Z",
     "iopub.status.busy": "2025-06-25T02:25:22.775436Z",
     "iopub.status.idle": "2025-06-25T02:25:22.819352Z",
     "shell.execute_reply": "2025-06-25T02:25:22.818133Z"
    },
    "papermill": {
     "duration": 0.056933,
     "end_time": "2025-06-25T02:25:22.820866",
     "exception": false,
     "start_time": "2025-06-25T02:25:22.763933",
     "status": "completed"
    },
    "tags": []
   },
   "outputs": [
    {
     "name": "stdout",
     "output_type": "stream",
     "text": [
      "\n",
      "Top 10 highest paid job titles in USD for 2025 (Location: US):\n",
      "job_title\n",
      "Research Team Lead                450000.00\n",
      "Director of Product Management    263819.06\n",
      "Director of Machine Learning      261650.00\n",
      "Head of Applied AI                260000.00\n",
      "Head of Data                      257121.88\n",
      "Head of AI                        255565.60\n",
      "Engineering Manager               249686.04\n",
      "Head of Machine Learning          247750.00\n",
      "Machine Learning Architect        246320.00\n",
      "AI Product Lead                   242352.50\n",
      "\n",
      "Top 10 lowest paid job titles in USD for 2025 (Location: US):\n",
      "job_title\n",
      "Clinical Aide                       35000.00\n",
      "Clinical Data Operator              36000.00\n",
      "AI Content Writer                   40506.67\n",
      "Data Operator                       42000.00\n",
      "Data Integration Analyst            49000.00\n",
      "Research Assistant                  51416.27\n",
      "Trainee                             55000.00\n",
      "Data Integrity Specialist           64000.00\n",
      "Data Scientist Associate            70000.00\n",
      "Sales Development Representative    70281.67\n"
     ]
    }
   ],
   "source": [
    "paid_summary(sa, \"US\", top_n=10, ascending = False)\n",
    "paid_summary(sa, \"US\", top_n=10, ascending = True)"
   ]
  },
  {
   "cell_type": "markdown",
   "id": "681f0a68",
   "metadata": {
    "papermill": {
     "duration": 0.010337,
     "end_time": "2025-06-25T02:25:22.841890",
     "exception": false,
     "start_time": "2025-06-25T02:25:22.831553",
     "status": "completed"
    },
    "tags": []
   },
   "source": [
    "## 3. Top 10 average highest and lowest paid data science jobs in 2025 (UK) 🇬🇧"
   ]
  },
  {
   "cell_type": "code",
   "execution_count": 17,
   "id": "a11972cc",
   "metadata": {
    "execution": {
     "iopub.execute_input": "2025-06-25T02:25:22.863900Z",
     "iopub.status.busy": "2025-06-25T02:25:22.863623Z",
     "iopub.status.idle": "2025-06-25T02:25:22.884823Z",
     "shell.execute_reply": "2025-06-25T02:25:22.883884Z"
    },
    "papermill": {
     "duration": 0.034258,
     "end_time": "2025-06-25T02:25:22.886548",
     "exception": false,
     "start_time": "2025-06-25T02:25:22.852290",
     "status": "completed"
    },
    "tags": []
   },
   "outputs": [
    {
     "name": "stdout",
     "output_type": "stream",
     "text": [
      "\n",
      "Top 10 highest paid job titles in USD for 2025 (Location: GB):\n",
      "job_title\n",
      "Systems Engineer             215000.0\n",
      "Manager                      204037.5\n",
      "Machine Learning Engineer    204000.0\n",
      "Quant Options Trader         200000.0\n",
      "Research Scientist           190500.0\n",
      "AI Lead                      186550.0\n",
      "Data Architect               183350.0\n",
      "Software Engineer            175000.0\n",
      "Data Engineer                175000.0\n",
      "Data Scientist               162000.0\n",
      "\n",
      "Top 10 lowest paid job titles in USD for 2025 (Location: GB):\n",
      "job_title\n",
      "AI Programmer         75000.00\n",
      "Associate             80000.00\n",
      "Data Analyst         100401.00\n",
      "AI Engineer          106666.67\n",
      "Data Integrator      123800.00\n",
      "Analyst              132805.67\n",
      "Engineer             155958.62\n",
      "Data Scientist       162000.00\n",
      "Data Engineer        175000.00\n",
      "Software Engineer    175000.00\n"
     ]
    }
   ],
   "source": [
    "paid_summary(sa, \"GB\", top_n=10, ascending = False)\n",
    "paid_summary(sa, \"GB\", top_n=10, ascending = True)"
   ]
  },
  {
   "cell_type": "markdown",
   "id": "37e06b48",
   "metadata": {
    "papermill": {
     "duration": 0.01058,
     "end_time": "2025-06-25T02:25:22.907895",
     "exception": false,
     "start_time": "2025-06-25T02:25:22.897315",
     "status": "completed"
    },
    "tags": []
   },
   "source": [
    "## 4. Average salary for each experience level"
   ]
  },
  {
   "cell_type": "markdown",
   "id": "12512193",
   "metadata": {
    "papermill": {
     "duration": 0.010223,
     "end_time": "2025-06-25T02:25:22.928623",
     "exception": false,
     "start_time": "2025-06-25T02:25:22.918400",
     "status": "completed"
    },
    "tags": []
   },
   "source": [
    "- EN: Entry-level / Junior\n",
    "- MI: Mid-level / Intermediate\n",
    "- SE: Senior-level\n",
    "- EX: Executive / Director"
   ]
  },
  {
   "cell_type": "code",
   "execution_count": 18,
   "id": "7f93157e",
   "metadata": {
    "execution": {
     "iopub.execute_input": "2025-06-25T02:25:22.950575Z",
     "iopub.status.busy": "2025-06-25T02:25:22.950230Z",
     "iopub.status.idle": "2025-06-25T02:25:22.956175Z",
     "shell.execute_reply": "2025-06-25T02:25:22.955296Z"
    },
    "papermill": {
     "duration": 0.018597,
     "end_time": "2025-06-25T02:25:22.957549",
     "exception": false,
     "start_time": "2025-06-25T02:25:22.938952",
     "status": "completed"
    },
    "tags": []
   },
   "outputs": [],
   "source": [
    "def avg_salary_by_experience(dataframe, year=None, country=None):\n",
    "    \"\"\"\n",
    "    Returns average salary in USD grouped by experience level.\n",
    "\n",
    "    Parameters:\n",
    "    - dataframe (pd.DataFrame): Your salary DataFrame\n",
    "    - year (int, optional): Filter for a specific year\n",
    "    - country (str, optional): Filter for a specific company location (e.g., \"US\")\n",
    "    \"\"\"\n",
    "    df_filtered = dataframe.copy()\n",
    "\n",
    "    # Filter by year\n",
    "    if year is not None:\n",
    "        df_filtered = df_filtered[df_filtered[\"work_year\"] == year]\n",
    "\n",
    "    # Filter by country\n",
    "    if country is not None:\n",
    "        df_filtered = df_filtered[df_filtered[\"company_location\"] == country]\n",
    "\n",
    "    result = (df_filtered\n",
    "              .groupby(\"experience_level\")[\"salary_in_usd\"]\n",
    "              .mean()\n",
    "              .round(2)\n",
    "              .sort_values(ascending=False)\n",
    "             )\n",
    "\n",
    "    print(f\"\\nAverage salary by experience level\" +\n",
    "          (f\" in {country}\" if country else \"\") +\n",
    "          (f\" for {year}\" if year else \"\") + \":\\n\")\n",
    "\n",
    "    return result"
   ]
  },
  {
   "cell_type": "markdown",
   "id": "2aa0b824",
   "metadata": {
    "papermill": {
     "duration": 0.010177,
     "end_time": "2025-06-25T02:25:22.978132",
     "exception": false,
     "start_time": "2025-06-25T02:25:22.967955",
     "status": "completed"
    },
    "tags": []
   },
   "source": [
    "## 5. Average salary for each experience level (Globally) 🌏"
   ]
  },
  {
   "cell_type": "code",
   "execution_count": 19,
   "id": "03762c32",
   "metadata": {
    "execution": {
     "iopub.execute_input": "2025-06-25T02:25:23.000517Z",
     "iopub.status.busy": "2025-06-25T02:25:22.999493Z",
     "iopub.status.idle": "2025-06-25T02:25:23.030344Z",
     "shell.execute_reply": "2025-06-25T02:25:23.029495Z"
    },
    "papermill": {
     "duration": 0.043475,
     "end_time": "2025-06-25T02:25:23.031836",
     "exception": false,
     "start_time": "2025-06-25T02:25:22.988361",
     "status": "completed"
    },
    "tags": []
   },
   "outputs": [
    {
     "name": "stdout",
     "output_type": "stream",
     "text": [
      "\n",
      "Average salary by experience level for 2025:\n",
      "\n"
     ]
    },
    {
     "data": {
      "text/plain": [
       "experience_level\n",
       "EX    204602.91\n",
       "SE    174217.17\n",
       "MI    143227.74\n",
       "EN    104041.93\n",
       "Name: salary_in_usd, dtype: float64"
      ]
     },
     "execution_count": 19,
     "metadata": {},
     "output_type": "execute_result"
    }
   ],
   "source": [
    "avg_salary_by_experience(sa, year=2025)"
   ]
  },
  {
   "cell_type": "markdown",
   "id": "4f6b2631",
   "metadata": {
    "papermill": {
     "duration": 0.010393,
     "end_time": "2025-06-25T02:25:23.053591",
     "exception": false,
     "start_time": "2025-06-25T02:25:23.043198",
     "status": "completed"
    },
    "tags": []
   },
   "source": [
    "## 6. Average salary for each experience level (US) 🇺🇸"
   ]
  },
  {
   "cell_type": "code",
   "execution_count": 20,
   "id": "418cd705",
   "metadata": {
    "execution": {
     "iopub.execute_input": "2025-06-25T02:25:23.075938Z",
     "iopub.status.busy": "2025-06-25T02:25:23.075293Z",
     "iopub.status.idle": "2025-06-25T02:25:23.114749Z",
     "shell.execute_reply": "2025-06-25T02:25:23.113883Z"
    },
    "papermill": {
     "duration": 0.052139,
     "end_time": "2025-06-25T02:25:23.116105",
     "exception": false,
     "start_time": "2025-06-25T02:25:23.063966",
     "status": "completed"
    },
    "tags": []
   },
   "outputs": [
    {
     "name": "stdout",
     "output_type": "stream",
     "text": [
      "\n",
      "Average salary by experience level in US for 2025:\n",
      "\n"
     ]
    },
    {
     "data": {
      "text/plain": [
       "experience_level\n",
       "EX    203859.97\n",
       "SE    177138.44\n",
       "MI    145960.76\n",
       "EN    106674.15\n",
       "Name: salary_in_usd, dtype: float64"
      ]
     },
     "execution_count": 20,
     "metadata": {},
     "output_type": "execute_result"
    }
   ],
   "source": [
    "avg_salary_by_experience(sa, year=2025, country=\"US\")"
   ]
  },
  {
   "cell_type": "markdown",
   "id": "edb68bc1",
   "metadata": {
    "papermill": {
     "duration": 0.010606,
     "end_time": "2025-06-25T02:25:23.137653",
     "exception": false,
     "start_time": "2025-06-25T02:25:23.127047",
     "status": "completed"
    },
    "tags": []
   },
   "source": [
    "## 7. Average salary for each experience level (GB) 🇬🇧"
   ]
  },
  {
   "cell_type": "code",
   "execution_count": 21,
   "id": "f2c6d608",
   "metadata": {
    "execution": {
     "iopub.execute_input": "2025-06-25T02:25:23.160339Z",
     "iopub.status.busy": "2025-06-25T02:25:23.160029Z",
     "iopub.status.idle": "2025-06-25T02:25:23.191757Z",
     "shell.execute_reply": "2025-06-25T02:25:23.190876Z"
    },
    "papermill": {
     "duration": 0.044933,
     "end_time": "2025-06-25T02:25:23.193312",
     "exception": false,
     "start_time": "2025-06-25T02:25:23.148379",
     "status": "completed"
    },
    "tags": []
   },
   "outputs": [
    {
     "name": "stdout",
     "output_type": "stream",
     "text": [
      "\n",
      "Average salary by experience level in GB for 2025:\n",
      "\n"
     ]
    },
    {
     "data": {
      "text/plain": [
       "experience_level\n",
       "MI    185793.75\n",
       "EX    171678.17\n",
       "SE    148041.36\n",
       "EN     97950.73\n",
       "Name: salary_in_usd, dtype: float64"
      ]
     },
     "execution_count": 21,
     "metadata": {},
     "output_type": "execute_result"
    }
   ],
   "source": [
    "avg_salary_by_experience(sa, year=2025, country=\"GB\")"
   ]
  },
  {
   "cell_type": "markdown",
   "id": "b11e2c5c",
   "metadata": {
    "papermill": {
     "duration": 0.010523,
     "end_time": "2025-06-25T02:25:23.214799",
     "exception": false,
     "start_time": "2025-06-25T02:25:23.204276",
     "status": "completed"
    },
    "tags": []
   },
   "source": [
    "## 8. Job Title Trends"
   ]
  },
  {
   "cell_type": "markdown",
   "id": "b4e14dac",
   "metadata": {
    "papermill": {
     "duration": 0.010797,
     "end_time": "2025-06-25T02:25:23.236518",
     "exception": false,
     "start_time": "2025-06-25T02:25:23.225721",
     "status": "completed"
    },
    "tags": []
   },
   "source": [
    "**Most common jobs**"
   ]
  },
  {
   "cell_type": "code",
   "execution_count": 22,
   "id": "e355d61b",
   "metadata": {
    "execution": {
     "iopub.execute_input": "2025-06-25T02:25:23.259344Z",
     "iopub.status.busy": "2025-06-25T02:25:23.259042Z",
     "iopub.status.idle": "2025-06-25T02:25:23.263985Z",
     "shell.execute_reply": "2025-06-25T02:25:23.263017Z"
    },
    "papermill": {
     "duration": 0.018343,
     "end_time": "2025-06-25T02:25:23.265506",
     "exception": false,
     "start_time": "2025-06-25T02:25:23.247163",
     "status": "completed"
    },
    "tags": []
   },
   "outputs": [],
   "source": [
    "def most_common_jobs(dataframe, top_n=10):\n",
    "    \"\"\"Returns the most common job titles and their counts.\"\"\"\n",
    "    \n",
    "    job_counts = dataframe[\"job_title\"].value_counts().head(top_n)\n",
    "    \n",
    "    print(f\"\\nTop {top_n} most common job titles:\")\n",
    "    \n",
    "    return job_counts"
   ]
  },
  {
   "cell_type": "code",
   "execution_count": 23,
   "id": "c98bdca6",
   "metadata": {
    "execution": {
     "iopub.execute_input": "2025-06-25T02:25:23.289395Z",
     "iopub.status.busy": "2025-06-25T02:25:23.288586Z",
     "iopub.status.idle": "2025-06-25T02:25:23.302822Z",
     "shell.execute_reply": "2025-06-25T02:25:23.301845Z"
    },
    "papermill": {
     "duration": 0.027714,
     "end_time": "2025-06-25T02:25:23.304329",
     "exception": false,
     "start_time": "2025-06-25T02:25:23.276615",
     "status": "completed"
    },
    "tags": []
   },
   "outputs": [
    {
     "name": "stdout",
     "output_type": "stream",
     "text": [
      "\n",
      "Top 10 most common job titles:\n"
     ]
    },
    {
     "data": {
      "text/plain": [
       "job_title\n",
       "Data Scientist               6047\n",
       "Data Engineer                5784\n",
       "Data Analyst                 5243\n",
       "Software Engineer            4192\n",
       "Engineer                     3683\n",
       "Manager                      3111\n",
       "Machine Learning Engineer    3038\n",
       "Analyst                      2272\n",
       "Research Scientist           1228\n",
       "Product Manager              1144\n",
       "Name: count, dtype: Int64"
      ]
     },
     "execution_count": 23,
     "metadata": {},
     "output_type": "execute_result"
    }
   ],
   "source": [
    "most_common_jobs(sa, top_n=10)"
   ]
  },
  {
   "cell_type": "markdown",
   "id": "53c1c078",
   "metadata": {
    "papermill": {
     "duration": 0.011272,
     "end_time": "2025-06-25T02:25:23.327158",
     "exception": false,
     "start_time": "2025-06-25T02:25:23.315886",
     "status": "completed"
    },
    "tags": []
   },
   "source": [
    "## 9. Average salary for most common jobs"
   ]
  },
  {
   "cell_type": "code",
   "execution_count": 24,
   "id": "6e931273",
   "metadata": {
    "execution": {
     "iopub.execute_input": "2025-06-25T02:25:23.350875Z",
     "iopub.status.busy": "2025-06-25T02:25:23.350590Z",
     "iopub.status.idle": "2025-06-25T02:25:23.355876Z",
     "shell.execute_reply": "2025-06-25T02:25:23.355030Z"
    },
    "papermill": {
     "duration": 0.018979,
     "end_time": "2025-06-25T02:25:23.357227",
     "exception": false,
     "start_time": "2025-06-25T02:25:23.338248",
     "status": "completed"
    },
    "tags": []
   },
   "outputs": [],
   "source": [
    "def avg_salary_for_common_jobs(dataframe, top_n=10):\n",
    "    \"\"\"Shows average salary of the most common job titles.\"\"\"\n",
    "    \n",
    "    common_jobs = dataframe[\"job_title\"].value_counts().head(top_n).index.tolist()\n",
    "\n",
    "    avg_salary = (dataframe[dataframe[\"job_title\"].isin(common_jobs)]\n",
    "                  .groupby(\"job_title\")[\"salary_in_usd\"]\n",
    "                  .mean()\n",
    "                  .round(2)\n",
    "                  .sort_values(ascending=False))\n",
    "\n",
    "    print(f\"\\nAverage salaries for the top {top_n} most common job titles:\")\n",
    "    \n",
    "    return avg_salary"
   ]
  },
  {
   "cell_type": "code",
   "execution_count": 25,
   "id": "10d78f02",
   "metadata": {
    "execution": {
     "iopub.execute_input": "2025-06-25T02:25:23.381077Z",
     "iopub.status.busy": "2025-06-25T02:25:23.380807Z",
     "iopub.status.idle": "2025-06-25T02:25:23.416166Z",
     "shell.execute_reply": "2025-06-25T02:25:23.415054Z"
    },
    "papermill": {
     "duration": 0.048964,
     "end_time": "2025-06-25T02:25:23.417712",
     "exception": false,
     "start_time": "2025-06-25T02:25:23.368748",
     "status": "completed"
    },
    "tags": []
   },
   "outputs": [
    {
     "name": "stdout",
     "output_type": "stream",
     "text": [
      "\n",
      "Average salaries for the top 10 most common job titles:\n"
     ]
    },
    {
     "data": {
      "text/plain": [
       "job_title\n",
       "Machine Learning Engineer    196610.22\n",
       "Research Scientist           195125.67\n",
       "Product Manager              190101.00\n",
       "Software Engineer            184131.38\n",
       "Manager                      171671.56\n",
       "Engineer                     170241.98\n",
       "Data Scientist               160248.68\n",
       "Data Engineer                155033.89\n",
       "Analyst                      116897.11\n",
       "Data Analyst                 110975.20\n",
       "Name: salary_in_usd, dtype: float64"
      ]
     },
     "execution_count": 25,
     "metadata": {},
     "output_type": "execute_result"
    }
   ],
   "source": [
    "avg_salary_for_common_jobs(sa, top_n=10)"
   ]
  },
  {
   "cell_type": "markdown",
   "id": "723c090a",
   "metadata": {
    "papermill": {
     "duration": 0.010841,
     "end_time": "2025-06-25T02:25:23.439956",
     "exception": false,
     "start_time": "2025-06-25T02:25:23.429115",
     "status": "completed"
    },
    "tags": []
   },
   "source": [
    "## 10. Career entry advice"
   ]
  },
  {
   "cell_type": "code",
   "execution_count": 26,
   "id": "43641c6a",
   "metadata": {
    "execution": {
     "iopub.execute_input": "2025-06-25T02:25:23.463354Z",
     "iopub.status.busy": "2025-06-25T02:25:23.463038Z",
     "iopub.status.idle": "2025-06-25T02:25:23.469941Z",
     "shell.execute_reply": "2025-06-25T02:25:23.469259Z"
    },
    "papermill": {
     "duration": 0.020209,
     "end_time": "2025-06-25T02:25:23.471154",
     "exception": false,
     "start_time": "2025-06-25T02:25:23.450945",
     "status": "completed"
    },
    "tags": []
   },
   "outputs": [],
   "source": [
    "def job_entry(dataframe, year=None, country=None, top_n=10):\n",
    "    \"\"\"Returns top N best-paying entry-level jobs by average salary.\"\"\"\n",
    "\n",
    "    df_filtered = dataframe.copy()\n",
    "\n",
    "    # Filter only entry-level jobs\n",
    "    df_filtered = df_filtered[df_filtered[\"experience_level\"] == \"EN\"]\n",
    "\n",
    "    # Filter by year\n",
    "    if year is not None:\n",
    "        df_filtered = df_filtered[df_filtered[\"work_year\"] == year]\n",
    "\n",
    "    # Filter by company location\n",
    "    if country is not None:\n",
    "        df_filtered = df_filtered[df_filtered[\"company_location\"] == country]\n",
    "\n",
    "    # Group by job title and calculate average salary\n",
    "    job_avg_salary = (df_filtered\n",
    "                      .groupby(\"job_title\")[\"salary_in_usd\"]\n",
    "                      .mean()\n",
    "                      .round(2)\n",
    "                      .sort_values(ascending=False)\n",
    "                      .head(top_n))\n",
    "\n",
    "    print(f\"\\nTop {top_n} best-paying entry-level jobs\" +\n",
    "          (f\" in {country}\" if country else \"\") +\n",
    "          (f\" for {year}\" if year else \"\") + \":\\n\")\n",
    "\n",
    "    return job_avg_salary\n"
   ]
  },
  {
   "cell_type": "code",
   "execution_count": 27,
   "id": "78d538aa",
   "metadata": {
    "execution": {
     "iopub.execute_input": "2025-06-25T02:25:23.495155Z",
     "iopub.status.busy": "2025-06-25T02:25:23.494560Z",
     "iopub.status.idle": "2025-06-25T02:25:23.525466Z",
     "shell.execute_reply": "2025-06-25T02:25:23.524702Z"
    },
    "papermill": {
     "duration": 0.044585,
     "end_time": "2025-06-25T02:25:23.527010",
     "exception": false,
     "start_time": "2025-06-25T02:25:23.482425",
     "status": "completed"
    },
    "tags": []
   },
   "outputs": [
    {
     "name": "stdout",
     "output_type": "stream",
     "text": [
      "\n",
      "Top 10 best-paying entry-level jobs:\n",
      "\n"
     ]
    },
    {
     "data": {
      "text/plain": [
       "job_title\n",
       "Engineering Manager                350933.33\n",
       "Head of Data                       240500.00\n",
       "Algorithm Developer                212500.00\n",
       "AI Researcher                      207231.11\n",
       "Director                           204718.00\n",
       "Research Scientist                 183604.89\n",
       "Machine Learning Model Engineer    180000.00\n",
       "Researcher                         177750.00\n",
       "Architect                          170837.50\n",
       "Machine Learning Scientist         165440.00\n",
       "Name: salary_in_usd, dtype: float64"
      ]
     },
     "execution_count": 27,
     "metadata": {},
     "output_type": "execute_result"
    }
   ],
   "source": [
    "# Global (all years)\n",
    "job_entry(sa, top_n=10)"
   ]
  },
  {
   "cell_type": "code",
   "execution_count": 28,
   "id": "e1019ded",
   "metadata": {
    "execution": {
     "iopub.execute_input": "2025-06-25T02:25:23.551572Z",
     "iopub.status.busy": "2025-06-25T02:25:23.551218Z",
     "iopub.status.idle": "2025-06-25T02:25:23.584817Z",
     "shell.execute_reply": "2025-06-25T02:25:23.583921Z"
    },
    "papermill": {
     "duration": 0.047378,
     "end_time": "2025-06-25T02:25:23.586325",
     "exception": false,
     "start_time": "2025-06-25T02:25:23.538947",
     "status": "completed"
    },
    "tags": []
   },
   "outputs": [
    {
     "data": {
      "text/html": [
       "<div>\n",
       "<style scoped>\n",
       "    .dataframe tbody tr th:only-of-type {\n",
       "        vertical-align: middle;\n",
       "    }\n",
       "\n",
       "    .dataframe tbody tr th {\n",
       "        vertical-align: top;\n",
       "    }\n",
       "\n",
       "    .dataframe thead th {\n",
       "        text-align: right;\n",
       "    }\n",
       "</style>\n",
       "<table border=\"1\" class=\"dataframe\">\n",
       "  <thead>\n",
       "    <tr style=\"text-align: right;\">\n",
       "      <th></th>\n",
       "      <th>work_year</th>\n",
       "      <th>experience_level</th>\n",
       "      <th>employment_type</th>\n",
       "      <th>job_title</th>\n",
       "      <th>salary_currency</th>\n",
       "      <th>salary_in_usd</th>\n",
       "      <th>employee_residence</th>\n",
       "      <th>remote_ratio</th>\n",
       "      <th>company_location</th>\n",
       "      <th>company_size</th>\n",
       "    </tr>\n",
       "  </thead>\n",
       "  <tbody>\n",
       "    <tr>\n",
       "      <th>47887</th>\n",
       "      <td>2025</td>\n",
       "      <td>EN</td>\n",
       "      <td>FT</td>\n",
       "      <td>Engineering Manager</td>\n",
       "      <td>USD</td>\n",
       "      <td>193600</td>\n",
       "      <td>US</td>\n",
       "      <td>0</td>\n",
       "      <td>US</td>\n",
       "      <td>M</td>\n",
       "    </tr>\n",
       "    <tr>\n",
       "      <th>17359</th>\n",
       "      <td>2025</td>\n",
       "      <td>EN</td>\n",
       "      <td>FT</td>\n",
       "      <td>Engineering Manager</td>\n",
       "      <td>USD</td>\n",
       "      <td>300000</td>\n",
       "      <td>US</td>\n",
       "      <td>100</td>\n",
       "      <td>US</td>\n",
       "      <td>M</td>\n",
       "    </tr>\n",
       "    <tr>\n",
       "      <th>47886</th>\n",
       "      <td>2025</td>\n",
       "      <td>EN</td>\n",
       "      <td>FT</td>\n",
       "      <td>Engineering Manager</td>\n",
       "      <td>USD</td>\n",
       "      <td>242000</td>\n",
       "      <td>US</td>\n",
       "      <td>0</td>\n",
       "      <td>US</td>\n",
       "      <td>M</td>\n",
       "    </tr>\n",
       "  </tbody>\n",
       "</table>\n",
       "</div>"
      ],
      "text/plain": [
       "       work_year experience_level employment_type            job_title  \\\n",
       "47887       2025               EN              FT  Engineering Manager   \n",
       "17359       2025               EN              FT  Engineering Manager   \n",
       "47886       2025               EN              FT  Engineering Manager   \n",
       "\n",
       "      salary_currency  salary_in_usd employee_residence  remote_ratio  \\\n",
       "47887             USD         193600                 US             0   \n",
       "17359             USD         300000                 US           100   \n",
       "47886             USD         242000                 US             0   \n",
       "\n",
       "      company_location company_size  \n",
       "47887               US            M  \n",
       "17359               US            M  \n",
       "47886               US            M  "
      ]
     },
     "execution_count": 28,
     "metadata": {},
     "output_type": "execute_result"
    }
   ],
   "source": [
    "# recheck for correctness\n",
    "df_filtered = sa.copy()\n",
    "sa[(sa[\"job_title\"] == \"Engineering Manager\") & (sa[\"experience_level\"] == \"EN\")].sample(3)"
   ]
  },
  {
   "cell_type": "code",
   "execution_count": 29,
   "id": "99cc3ce1",
   "metadata": {
    "execution": {
     "iopub.execute_input": "2025-06-25T02:25:23.611275Z",
     "iopub.status.busy": "2025-06-25T02:25:23.610984Z",
     "iopub.status.idle": "2025-06-25T02:25:23.643344Z",
     "shell.execute_reply": "2025-06-25T02:25:23.642513Z"
    },
    "papermill": {
     "duration": 0.046024,
     "end_time": "2025-06-25T02:25:23.644738",
     "exception": false,
     "start_time": "2025-06-25T02:25:23.598714",
     "status": "completed"
    },
    "tags": []
   },
   "outputs": [
    {
     "name": "stdout",
     "output_type": "stream",
     "text": [
      "\n",
      "Top 10 best-paying entry-level jobs in US for 2025:\n",
      "\n"
     ]
    },
    {
     "data": {
      "text/plain": [
       "job_title\n",
       "Engineering Manager       350933.33\n",
       "Head of Data              240500.00\n",
       "Algorithm Developer       212500.00\n",
       "Director                  204718.00\n",
       "AI Researcher             200846.67\n",
       "Research Engineer         193986.75\n",
       "Research Scientist        184468.38\n",
       "Researcher                177750.00\n",
       "Data Analytics Manager    174000.00\n",
       "Architect                 170837.50\n",
       "Name: salary_in_usd, dtype: float64"
      ]
     },
     "execution_count": 29,
     "metadata": {},
     "output_type": "execute_result"
    }
   ],
   "source": [
    "# In the US, in 2025\n",
    "job_entry(sa, year=2025, country=\"US\", top_n=10)"
   ]
  },
  {
   "cell_type": "code",
   "execution_count": 30,
   "id": "325b9671",
   "metadata": {
    "execution": {
     "iopub.execute_input": "2025-06-25T02:25:23.669836Z",
     "iopub.status.busy": "2025-06-25T02:25:23.668962Z",
     "iopub.status.idle": "2025-06-25T02:25:23.703923Z",
     "shell.execute_reply": "2025-06-25T02:25:23.703046Z"
    },
    "papermill": {
     "duration": 0.048963,
     "end_time": "2025-06-25T02:25:23.705365",
     "exception": false,
     "start_time": "2025-06-25T02:25:23.656402",
     "status": "completed"
    },
    "tags": []
   },
   "outputs": [
    {
     "data": {
      "text/html": [
       "<div>\n",
       "<style scoped>\n",
       "    .dataframe tbody tr th:only-of-type {\n",
       "        vertical-align: middle;\n",
       "    }\n",
       "\n",
       "    .dataframe tbody tr th {\n",
       "        vertical-align: top;\n",
       "    }\n",
       "\n",
       "    .dataframe thead th {\n",
       "        text-align: right;\n",
       "    }\n",
       "</style>\n",
       "<table border=\"1\" class=\"dataframe\">\n",
       "  <thead>\n",
       "    <tr style=\"text-align: right;\">\n",
       "      <th></th>\n",
       "      <th>work_year</th>\n",
       "      <th>experience_level</th>\n",
       "      <th>employment_type</th>\n",
       "      <th>job_title</th>\n",
       "      <th>salary_currency</th>\n",
       "      <th>salary_in_usd</th>\n",
       "      <th>employee_residence</th>\n",
       "      <th>remote_ratio</th>\n",
       "      <th>company_location</th>\n",
       "      <th>company_size</th>\n",
       "    </tr>\n",
       "  </thead>\n",
       "  <tbody>\n",
       "    <tr>\n",
       "      <th>121355</th>\n",
       "      <td>2024</td>\n",
       "      <td>EN</td>\n",
       "      <td>FT</td>\n",
       "      <td>Data Analytics Manager</td>\n",
       "      <td>USD</td>\n",
       "      <td>27000</td>\n",
       "      <td>IN</td>\n",
       "      <td>100</td>\n",
       "      <td>AS</td>\n",
       "      <td>M</td>\n",
       "    </tr>\n",
       "    <tr>\n",
       "      <th>39833</th>\n",
       "      <td>2025</td>\n",
       "      <td>EN</td>\n",
       "      <td>FT</td>\n",
       "      <td>Data Analytics Manager</td>\n",
       "      <td>USD</td>\n",
       "      <td>158000</td>\n",
       "      <td>US</td>\n",
       "      <td>0</td>\n",
       "      <td>US</td>\n",
       "      <td>M</td>\n",
       "    </tr>\n",
       "    <tr>\n",
       "      <th>39832</th>\n",
       "      <td>2025</td>\n",
       "      <td>EN</td>\n",
       "      <td>FT</td>\n",
       "      <td>Data Analytics Manager</td>\n",
       "      <td>USD</td>\n",
       "      <td>190000</td>\n",
       "      <td>US</td>\n",
       "      <td>0</td>\n",
       "      <td>US</td>\n",
       "      <td>M</td>\n",
       "    </tr>\n",
       "  </tbody>\n",
       "</table>\n",
       "</div>"
      ],
      "text/plain": [
       "        work_year experience_level employment_type               job_title  \\\n",
       "121355       2024               EN              FT  Data Analytics Manager   \n",
       "39833        2025               EN              FT  Data Analytics Manager   \n",
       "39832        2025               EN              FT  Data Analytics Manager   \n",
       "\n",
       "       salary_currency  salary_in_usd employee_residence  remote_ratio  \\\n",
       "121355             USD          27000                 IN           100   \n",
       "39833              USD         158000                 US             0   \n",
       "39832              USD         190000                 US             0   \n",
       "\n",
       "       company_location company_size  \n",
       "121355               AS            M  \n",
       "39833                US            M  \n",
       "39832                US            M  "
      ]
     },
     "execution_count": 30,
     "metadata": {},
     "output_type": "execute_result"
    }
   ],
   "source": [
    "# recheck for correctness\n",
    "df_filtered = sa.copy()\n",
    "sa[(sa[\"job_title\"] == \"Data Analytics Manager\") & (sa[\"experience_level\"] == \"EN\")].sample(3)"
   ]
  },
  {
   "cell_type": "markdown",
   "id": "6346043f",
   "metadata": {
    "papermill": {
     "duration": 0.011625,
     "end_time": "2025-06-25T02:25:23.729903",
     "exception": false,
     "start_time": "2025-06-25T02:25:23.718278",
     "status": "completed"
    },
    "tags": []
   },
   "source": [
    "# Visualisations 👀"
   ]
  },
  {
   "cell_type": "markdown",
   "id": "e0a33503",
   "metadata": {
    "papermill": {
     "duration": 0.01168,
     "end_time": "2025-06-25T02:25:23.753217",
     "exception": false,
     "start_time": "2025-06-25T02:25:23.741537",
     "status": "completed"
    },
    "tags": []
   },
   "source": [
    "## 1. Company size distribution"
   ]
  },
  {
   "cell_type": "code",
   "execution_count": 31,
   "id": "9ffe28f7",
   "metadata": {
    "execution": {
     "iopub.execute_input": "2025-06-25T02:25:23.779096Z",
     "iopub.status.busy": "2025-06-25T02:25:23.778797Z",
     "iopub.status.idle": "2025-06-25T02:25:24.166079Z",
     "shell.execute_reply": "2025-06-25T02:25:24.165030Z"
    },
    "papermill": {
     "duration": 0.401928,
     "end_time": "2025-06-25T02:25:24.167532",
     "exception": false,
     "start_time": "2025-06-25T02:25:23.765604",
     "status": "completed"
    },
    "tags": []
   },
   "outputs": [
    {
     "name": "stdout",
     "output_type": "stream",
     "text": [
      "\n",
      "Histogram for work_year == 2025 only:\n"
     ]
    },
    {
     "name": "stderr",
     "output_type": "stream",
     "text": [
      "/usr/local/lib/python3.11/dist-packages/seaborn/_oldcore.py:1119: FutureWarning: use_inf_as_na option is deprecated and will be removed in a future version. Convert inf values to NaN before operating instead.\n",
      "  with pd.option_context('mode.use_inf_as_na', True):\n"
     ]
    },
    {
     "data": {
      "image/png": "[encoded data removed]",
      "text/plain": [
       "<Figure size 800x500 with 1 Axes>"
      ]
     },
     "metadata": {},
     "output_type": "display_data"
    }
   ],
   "source": [
    "sa_2025 = sa[sa[\"work_year\"] == 2025].copy()\n",
    "\n",
    "if sa_2025.empty:\n",
    "    print(\"No data available for work_year == 2025 to plot company_size.\")\n",
    "else:\n",
    "    print(\"\\nHistogram for work_year == 2025 only:\")\n",
    "    plt.figure(figsize=(8, 5))\n",
    "    sns.histplot(sa_2025[\"company_size\"])\n",
    "    plt.title(\"Distribution of Company Size for Year 2025\")\n",
    "    plt.xlabel(\"Company Size\")\n",
    "    plt.ylabel(\"Count\")  \n",
    "    plt.show()"
   ]
  },
  {
   "cell_type": "markdown",
   "id": "9a03bd3b",
   "metadata": {
    "papermill": {
     "duration": 0.01291,
     "end_time": "2025-06-25T02:25:24.193625",
     "exception": false,
     "start_time": "2025-06-25T02:25:24.180715",
     "status": "completed"
    },
    "tags": []
   },
   "source": [
    "## 2. Salary Distribution"
   ]
  },
  {
   "cell_type": "code",
   "execution_count": 32,
   "id": "1b853fd8",
   "metadata": {
    "execution": {
     "iopub.execute_input": "2025-06-25T02:25:24.220003Z",
     "iopub.status.busy": "2025-06-25T02:25:24.219686Z",
     "iopub.status.idle": "2025-06-25T02:25:24.682125Z",
     "shell.execute_reply": "2025-06-25T02:25:24.681215Z"
    },
    "papermill": {
     "duration": 0.477673,
     "end_time": "2025-06-25T02:25:24.683646",
     "exception": false,
     "start_time": "2025-06-25T02:25:24.205973",
     "status": "completed"
    },
    "tags": []
   },
   "outputs": [
    {
     "name": "stdout",
     "output_type": "stream",
     "text": [
      "\n",
      "Histogram for work_year == 2025 only:\n"
     ]
    },
    {
     "name": "stderr",
     "output_type": "stream",
     "text": [
      "/usr/local/lib/python3.11/dist-packages/seaborn/_oldcore.py:1119: FutureWarning: use_inf_as_na option is deprecated and will be removed in a future version. Convert inf values to NaN before operating instead.\n",
      "  with pd.option_context('mode.use_inf_as_na', True):\n"
     ]
    },
    {
     "data": {
      "image/png": "[encoded data removed]",
      "text/plain": [
       "<Figure size 800x500 with 1 Axes>"
      ]
     },
     "metadata": {},
     "output_type": "display_data"
    }
   ],
   "source": [
    "sa_2025 = sa[sa[\"work_year\"] == 2025].copy()\n",
    "if sa_2025.empty:\n",
    "    print(\"No data available for work_year == 2025 to plot company_size.\")\n",
    "else:\n",
    "    print(\"\\nHistogram for work_year == 2025 only:\")\n",
    "    plt.figure(figsize=(8, 5))\n",
    "    sns.histplot(sa_2025[\"salary_in_usd\"], bins=50, kde=True)\n",
    "    plt.title(\"Distribution os salaries for Year 2025\")\n",
    "    plt.xlabel(\"Salary in USD\")\n",
    "    plt.ylabel(\"Count\")  \n",
    "    plt.show()"
   ]
  },
  {
   "cell_type": "markdown",
   "id": "e732b01b",
   "metadata": {
    "papermill": {
     "duration": 0.013697,
     "end_time": "2025-06-25T02:25:24.711294",
     "exception": false,
     "start_time": "2025-06-25T02:25:24.697597",
     "status": "completed"
    },
    "tags": []
   },
   "source": [
    "## 3. Salary by Experience Level"
   ]
  },
  {
   "cell_type": "code",
   "execution_count": 33,
   "id": "db9b8635",
   "metadata": {
    "execution": {
     "iopub.execute_input": "2025-06-25T02:25:24.741766Z",
     "iopub.status.busy": "2025-06-25T02:25:24.741360Z",
     "iopub.status.idle": "2025-06-25T02:25:24.943279Z",
     "shell.execute_reply": "2025-06-25T02:25:24.942389Z"
    },
    "papermill": {
     "duration": 0.219389,
     "end_time": "2025-06-25T02:25:24.944770",
     "exception": false,
     "start_time": "2025-06-25T02:25:24.725381",
     "status": "completed"
    },
    "tags": []
   },
   "outputs": [
    {
     "data": {
      "text/plain": [
       "<Axes: xlabel='experience_level', ylabel='salary_in_usd'>"
      ]
     },
     "execution_count": 33,
     "metadata": {},
     "output_type": "execute_result"
    },
    {
     "data": {
      "image/png": "[encoded data removed]",
      "text/plain": [
       "<Figure size 640x480 with 1 Axes>"
      ]
     },
     "metadata": {},
     "output_type": "display_data"
    }
   ],
   "source": [
    "sns.boxplot(data = sa_2025, x=\"experience_level\", y=\"salary_in_usd\", palette=\"viridis\")\n",
    "# so many outliers"
   ]
  },
  {
   "cell_type": "markdown",
   "id": "441c8eec",
   "metadata": {
    "papermill": {
     "duration": 0.014426,
     "end_time": "2025-06-25T02:25:24.974115",
     "exception": false,
     "start_time": "2025-06-25T02:25:24.959689",
     "status": "completed"
    },
    "tags": []
   },
   "source": [
    "## 4. Average Salary by Country"
   ]
  },
  {
   "cell_type": "code",
   "execution_count": 34,
   "id": "d4a80bf5",
   "metadata": {
    "execution": {
     "iopub.execute_input": "2025-06-25T02:25:25.004390Z",
     "iopub.status.busy": "2025-06-25T02:25:25.003746Z",
     "iopub.status.idle": "2025-06-25T02:25:25.187319Z",
     "shell.execute_reply": "2025-06-25T02:25:25.186410Z"
    },
    "papermill": {
     "duration": 0.200406,
     "end_time": "2025-06-25T02:25:25.188837",
     "exception": false,
     "start_time": "2025-06-25T02:25:24.988431",
     "status": "completed"
    },
    "tags": []
   },
   "outputs": [
    {
     "data": {
      "text/plain": [
       "<Axes: ylabel='company_location'>"
      ]
     },
     "execution_count": 34,
     "metadata": {},
     "output_type": "execute_result"
    },
    {
     "data": {
      "image/png": "[encoded data removed]",
      "text/plain": [
       "<Figure size 640x480 with 1 Axes>"
      ]
     },
     "metadata": {},
     "output_type": "display_data"
    }
   ],
   "source": [
    "top_countries = sa_2025.groupby(\"company_location\")[\"salary_in_usd\"].mean().sort_values(ascending=False).head(10)\n",
    "sns.barplot(x=top_countries.values, y=top_countries.index, palette=\"Blues_r\")"
   ]
  },
  {
   "cell_type": "markdown",
   "id": "d34fd280",
   "metadata": {
    "papermill": {
     "duration": 0.015426,
     "end_time": "2025-06-25T02:25:25.220520",
     "exception": false,
     "start_time": "2025-06-25T02:25:25.205094",
     "status": "completed"
    },
    "tags": []
   },
   "source": [
    "## 5. Heatmap: Salary vs Experience vs Company Size"
   ]
  },
  {
   "cell_type": "markdown",
   "id": "32d406f4",
   "metadata": {
    "papermill": {
     "duration": 0.015348,
     "end_time": "2025-06-25T02:25:25.251261",
     "exception": false,
     "start_time": "2025-06-25T02:25:25.235913",
     "status": "completed"
    },
    "tags": []
   },
   "source": [
    "Cross-dimension analysis to find hot salary spots"
   ]
  },
  {
   "cell_type": "code",
   "execution_count": 35,
   "id": "9f8a8c51",
   "metadata": {
    "execution": {
     "iopub.execute_input": "2025-06-25T02:25:25.283697Z",
     "iopub.status.busy": "2025-06-25T02:25:25.283032Z",
     "iopub.status.idle": "2025-06-25T02:25:25.535356Z",
     "shell.execute_reply": "2025-06-25T02:25:25.534437Z"
    },
    "papermill": {
     "duration": 0.270241,
     "end_time": "2025-06-25T02:25:25.536959",
     "exception": false,
     "start_time": "2025-06-25T02:25:25.266718",
     "status": "completed"
    },
    "tags": []
   },
   "outputs": [
    {
     "name": "stderr",
     "output_type": "stream",
     "text": [
      "/usr/local/lib/python3.11/dist-packages/matplotlib/colors.py:721: RuntimeWarning: invalid value encountered in less\n",
      "  xa[xa < 0] = -1\n"
     ]
    },
    {
     "data": {
      "text/plain": [
       "<Axes: xlabel='company_size', ylabel='experience_level'>"
      ]
     },
     "execution_count": 35,
     "metadata": {},
     "output_type": "execute_result"
    },
    {
     "data": {
      "image/png": "[encoded data removed]",
      "text/plain": [
       "<Figure size 640x480 with 2 Axes>"
      ]
     },
     "metadata": {},
     "output_type": "display_data"
    }
   ],
   "source": [
    "pivot = sa_2025.pivot_table(index=\"experience_level\", columns=\"company_size\", values=\"salary_in_usd\", aggfunc=\"mean\")\n",
    "sns.heatmap(pivot, annot=True, fmt=\".0f\", cmap=\"YlGnBu\")"
   ]
  },
  {
   "cell_type": "markdown",
   "id": "7681f4c7",
   "metadata": {
    "papermill": {
     "duration": 0.01718,
     "end_time": "2025-06-25T02:25:25.571500",
     "exception": false,
     "start_time": "2025-06-25T02:25:25.554320",
     "status": "completed"
    },
    "tags": []
   },
   "source": [
    "## 6. Bar Plot of Top 10 Highest Paid Job Titles"
   ]
  },
  {
   "cell_type": "code",
   "execution_count": 36,
   "id": "0bf725fd",
   "metadata": {
    "execution": {
     "iopub.execute_input": "2025-06-25T02:25:25.605894Z",
     "iopub.status.busy": "2025-06-25T02:25:25.605038Z",
     "iopub.status.idle": "2025-06-25T02:25:25.869727Z",
     "shell.execute_reply": "2025-06-25T02:25:25.868694Z"
    },
    "papermill": {
     "duration": 0.2841,
     "end_time": "2025-06-25T02:25:25.871959",
     "exception": false,
     "start_time": "2025-06-25T02:25:25.587859",
     "status": "completed"
    },
    "tags": []
   },
   "outputs": [
    {
     "data": {
      "image/png": "[encoded data removed]",
      "text/plain": [
       "<Figure size 1200x600 with 1 Axes>"
      ]
     },
     "metadata": {},
     "output_type": "display_data"
    }
   ],
   "source": [
    "# Group by job title and get average salary\n",
    "top_jobs = (sa.groupby(\"job_title\")[\"salary_in_usd\"]\n",
    "              .mean()\n",
    "              .sort_values(ascending=False)\n",
    "              .head(10)\n",
    "              .round(2))\n",
    "\n",
    "plt.figure(figsize=(12, 6))\n",
    "sns.barplot(x=top_jobs.values, y=top_jobs.index, palette=\"mako\")\n",
    "\n",
    "plt.title(\"Top 10 Highest Paid Data Jobs in 2025\", fontsize=16)\n",
    "plt.xlabel(\"Average Salary (USD)\", fontsize=12)\n",
    "plt.ylabel(\"Job Title\", fontsize=12)\n",
    "plt.grid(axis='x', linestyle='--', alpha=0.7)\n",
    "plt.tight_layout()\n",
    "plt.show()"
   ]
  },
  {
   "cell_type": "markdown",
   "id": "8cf8b90f",
   "metadata": {
    "papermill": {
     "duration": 0.017544,
     "end_time": "2025-06-25T02:25:25.907942",
     "exception": false,
     "start_time": "2025-06-25T02:25:25.890398",
     "status": "completed"
    },
    "tags": []
   },
   "source": [
    "## 7. Remote Work & Salary"
   ]
  },
  {
   "cell_type": "code",
   "execution_count": 37,
   "id": "659c604e",
   "metadata": {
    "execution": {
     "iopub.execute_input": "2025-06-25T02:25:25.945121Z",
     "iopub.status.busy": "2025-06-25T02:25:25.944835Z",
     "iopub.status.idle": "2025-06-25T02:25:26.115313Z",
     "shell.execute_reply": "2025-06-25T02:25:26.114429Z"
    },
    "papermill": {
     "duration": 0.191232,
     "end_time": "2025-06-25T02:25:26.117020",
     "exception": false,
     "start_time": "2025-06-25T02:25:25.925788",
     "status": "completed"
    },
    "tags": []
   },
   "outputs": [
    {
     "data": {
      "text/plain": [
       "<Axes: xlabel='remote_ratio', ylabel='salary_in_usd'>"
      ]
     },
     "execution_count": 37,
     "metadata": {},
     "output_type": "execute_result"
    },
    {
     "data": {
      "image/png": "[encoded data removed]",
      "text/plain": [
       "<Figure size 640x480 with 1 Axes>"
      ]
     },
     "metadata": {},
     "output_type": "display_data"
    }
   ],
   "source": [
    "sns.boxplot(data=sa_2025, x=\"remote_ratio\", y=\"salary_in_usd\")"
   ]
  },
  {
   "cell_type": "markdown",
   "id": "36c35f49",
   "metadata": {
    "papermill": {
     "duration": 0.01823,
     "end_time": "2025-06-25T02:25:26.153926",
     "exception": false,
     "start_time": "2025-06-25T02:25:26.135696",
     "status": "completed"
    },
    "tags": []
   },
   "source": [
    "## 8.Salary Over Time by Experience Level"
   ]
  },
  {
   "cell_type": "code",
   "execution_count": 38,
   "id": "00643001",
   "metadata": {
    "execution": {
     "iopub.execute_input": "2025-06-25T02:25:26.192126Z",
     "iopub.status.busy": "2025-06-25T02:25:26.191785Z",
     "iopub.status.idle": "2025-06-25T02:25:26.523302Z",
     "shell.execute_reply": "2025-06-25T02:25:26.522314Z"
    },
    "papermill": {
     "duration": 0.353489,
     "end_time": "2025-06-25T02:25:26.525870",
     "exception": false,
     "start_time": "2025-06-25T02:25:26.172381",
     "status": "completed"
    },
    "tags": []
   },
   "outputs": [
    {
     "name": "stderr",
     "output_type": "stream",
     "text": [
      "/usr/local/lib/python3.11/dist-packages/seaborn/_oldcore.py:1119: FutureWarning: use_inf_as_na option is deprecated and will be removed in a future version. Convert inf values to NaN before operating instead.\n",
      "  with pd.option_context('mode.use_inf_as_na', True):\n",
      "/usr/local/lib/python3.11/dist-packages/seaborn/_oldcore.py:1119: FutureWarning: use_inf_as_na option is deprecated and will be removed in a future version. Convert inf values to NaN before operating instead.\n",
      "  with pd.option_context('mode.use_inf_as_na', True):\n",
      "/usr/local/lib/python3.11/dist-packages/seaborn/_oldcore.py:1075: FutureWarning: When grouping with a length-1 list-like, you will need to pass a length-1 tuple to get_group in a future version of pandas. Pass `(name,)` instead of `name` to silence this warning.\n",
      "  data_subset = grouped_data.get_group(pd_key)\n",
      "/usr/local/lib/python3.11/dist-packages/seaborn/_oldcore.py:1075: FutureWarning: When grouping with a length-1 list-like, you will need to pass a length-1 tuple to get_group in a future version of pandas. Pass `(name,)` instead of `name` to silence this warning.\n",
      "  data_subset = grouped_data.get_group(pd_key)\n",
      "/usr/local/lib/python3.11/dist-packages/seaborn/_oldcore.py:1075: FutureWarning: When grouping with a length-1 list-like, you will need to pass a length-1 tuple to get_group in a future version of pandas. Pass `(name,)` instead of `name` to silence this warning.\n",
      "  data_subset = grouped_data.get_group(pd_key)\n",
      "/usr/local/lib/python3.11/dist-packages/seaborn/_oldcore.py:1075: FutureWarning: When grouping with a length-1 list-like, you will need to pass a length-1 tuple to get_group in a future version of pandas. Pass `(name,)` instead of `name` to silence this warning.\n",
      "  data_subset = grouped_data.get_group(pd_key)\n"
     ]
    },
    {
     "data": {
      "image/png": "[encoded data removed]",
      "text/plain": [
       "<Figure size 1200x600 with 1 Axes>"
      ]
     },
     "metadata": {},
     "output_type": "display_data"
    }
   ],
   "source": [
    "salary_over_time = (\n",
    "    sa.groupby([\"work_year\", \"experience_level\"])[\"salary_in_usd\"]\n",
    "    .mean()\n",
    "    .reset_index()\n",
    ")\n",
    "\n",
    "# map experience levels to full names for clarity\n",
    "exp_map = {\"EN\": \"Entry\", \"MI\": \"Mid\", \"SE\": \"Senior\", \"EX\": \"Executive\"}\n",
    "salary_over_time[\"experience_level\"] = salary_over_time[\"experience_level\"].map(exp_map)\n",
    "\n",
    "plt.figure(figsize=(12, 6))\n",
    "sns.lineplot(\n",
    "    data=salary_over_time,\n",
    "    x=\"work_year\",\n",
    "    y=\"salary_in_usd\",\n",
    "    hue=\"experience_level\",\n",
    "    marker=\"o\",\n",
    "    palette=\"Set2\"\n",
    ")\n",
    "\n",
    "plt.title(\"Salary Trends by Experience Level (2020–2025)\", fontsize=16)\n",
    "plt.xlabel(\"Year\", fontsize=12)\n",
    "plt.ylabel(\"Average Salary (USD)\", fontsize=12)\n",
    "plt.xticks(salary_over_time[\"work_year\"].unique())\n",
    "plt.grid(True, linestyle=\"--\", alpha=0.5)\n",
    "plt.legend(title=\"Experience Level\")\n",
    "plt.tight_layout()\n",
    "plt.show()"
   ]
  }
 ],
 "metadata": {
  "kaggle": {
   "accelerator": "none",
   "dataSources": [
    {
     "datasetId": 7714230,
     "sourceId": 12243335,
     "sourceType": "datasetVersion"
    }
   ],
   "dockerImageVersionId": 31040,
   "isGpuEnabled": false,
   "isInternetEnabled": true,
   "language": "python",
   "sourceType": "notebook"
  },
  "kernelspec": {
   "display_name": "Python 3",
   "language": "python",
   "name": "python3"
  },
  "language_info": {
   "codemirror_mode": {
    "name": "ipython",
    "version": 3
   },
   "file_extension": ".py",
   "mimetype": "text/x-python",
   "name": "python",
   "nbconvert_exporter": "python",
   "pygments_lexer": "ipython3",
   "version": "3.11.11"
  },
  "papermill": {
   "default_parameters": {},
   "duration": 14.814002,
   "end_time": "2025-06-25T02:25:27.268267",
   "environment_variables": {},
   "exception": null,
   "input_path": "__notebook__.ipynb",
   "output_path": "__notebook__.ipynb",
   "parameters": {},
   "start_time": "2025-06-25T02:25:12.454265",
   "version": "2.6.0"
  }
 },
 "nbformat": 4,
 "nbformat_minor": 5
}
